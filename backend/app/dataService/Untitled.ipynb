{
 "cells": [
  {
   "cell_type": "code",
   "execution_count": 1,
   "metadata": {},
   "outputs": [],
   "source": [
    "import os\n",
    "import json\n",
    "from sklearn import metrics\n",
    "from sklearn.metrics import confusion_matrix"
   ]
  },
  {
   "cell_type": "code",
   "execution_count": 3,
   "metadata": {},
   "outputs": [],
   "source": [
    "with open('wtag_result_new.json', 'r') as f:\n",
    "    result = json.load(f)"
   ]
  },
  {
   "cell_type": "code",
   "execution_count": 4,
   "metadata": {},
   "outputs": [],
   "source": [
    "with open('/Users/jessiehe/vlm_prompting/backend/app/data/wtag_raw_data_with_recipe.json', 'r') as f:\n",
    "    raw_data = json.load(f)"
   ]
  },
  {
   "cell_type": "code",
   "execution_count": 5,
   "metadata": {},
   "outputs": [],
   "source": [
    "pred_mapping = {'question':0, 'answer':1, 'confirmation':2, 'hesitation':3, 'self description':4, 'Question': 0, 'Answer':1, 'Confirmation':2, 'Hesitation': 3, 'Self Description':4}"
   ]
  },
  {
   "cell_type": "code",
   "execution_count": 6,
   "metadata": {},
   "outputs": [],
   "source": [
    "def relationship_computation(y1, y2, y):\n",
    "    if y1 == y2 and y2 == y:\n",
    "        return 'R'\n",
    "    elif y1 == y2 and y2 != y:\n",
    "        return 'Complement-S'\n",
    "    elif y1 != y2 and y1 == y:\n",
    "        return 'U1'\n",
    "    elif y1 != y2 and y2 == y:\n",
    "        return 'U2'\n",
    "    elif y1 != y2 and y2 != y:\n",
    "        return 'Conflict-S'"
   ]
  },
  {
   "cell_type": "code",
   "execution_count": 7,
   "metadata": {},
   "outputs": [],
   "source": [
    "data_result_dict = {}\n",
    "for key in raw_data.keys():\n",
    "    data_result_dict[key] = {}\n",
    "    data_result_dict[key]['instruction'] = raw_data[key]['instr_info']['pre_instr']\n",
    "    data_result_dict[key]['label'] = raw_data[key]['label']\n",
    "    data_result_dict[key]['description'] = raw_data[key]['description']\n",
    "    data_result_dict[key]['prediction'] = {}\n",
    "    response = json.loads(result[key]['content'])\n",
    "    data_result_dict[key]['prediction']['overall'] = response['overall_intention']\n",
    "    data_result_dict[key]['prediction']['visual'] = response['visual_intention']\n",
    "    data_result_dict[key]['prediction']['language'] = response['linguistic_intention']\n",
    "    data_result_dict[key]['prediction']['explanation'] = response['explanation']\n",
    "    overall_pred = pred_mapping[data_result_dict[key]['prediction']['overall']] if data_result_dict[key]['prediction']['overall'] in pred_mapping else -999\n",
    "    visual_pred = pred_mapping[data_result_dict[key]['prediction']['visual']] if data_result_dict[key]['prediction']['visual'] in pred_mapping else -999\n",
    "    language_pred = pred_mapping[data_result_dict[key]['prediction']['language']] if data_result_dict[key]['prediction']['language'] in pred_mapping else -999\n",
    "    data_result_dict[key]['interaction_type'] = relationship_computation(language_pred, visual_pred, overall_pred)"
   ]
  },
  {
   "cell_type": "code",
   "execution_count": 8,
   "metadata": {},
   "outputs": [],
   "source": [
    "ground_truth = []\n",
    "predictions = []\n",
    "false_list = []\n",
    "for videoid in data_result_dict.keys():\n",
    "    gt = pred_mapping[data_result_dict[videoid]['label']]\n",
    "    prediction = pred_mapping[data_result_dict[videoid]['prediction']['overall']]\n",
    "    \n",
    "    ground_truth.append(pred_mapping[data_result_dict[videoid]['label']])\n",
    "    predictions.append(pred_mapping[data_result_dict[videoid]['prediction']['overall']])\n",
    "    if gt != prediction:\n",
    "        false_list.append(videoid)"
   ]
  },
  {
   "cell_type": "code",
   "execution_count": 9,
   "metadata": {},
   "outputs": [
    {
     "data": {
      "text/plain": [
       "772"
      ]
     },
     "execution_count": 9,
     "metadata": {},
     "output_type": "execute_result"
    }
   ],
   "source": [
    "len(false_list)"
   ]
  },
  {
   "cell_type": "code",
   "execution_count": 10,
   "metadata": {},
   "outputs": [],
   "source": [
    "confusion_matrix = confusion_matrix(ground_truth, predictions, labels=[0, 1, 2, 3, 4])"
   ]
  },
  {
   "cell_type": "code",
   "execution_count": 13,
   "metadata": {},
   "outputs": [
    {
     "data": {
      "text/plain": [
       "array([[ 16, 153, 273,   3,   0],\n",
       "       [  0,  10,  35,   3,   0],\n",
       "       [  1,  31, 298,   7,   0],\n",
       "       [  0,   4,  17,   5,   1],\n",
       "       [  1, 100, 140,   3,   1]])"
      ]
     },
     "execution_count": 13,
     "metadata": {},
     "output_type": "execute_result"
    }
   ],
   "source": [
    "confusion_matrix"
   ]
  },
  {
   "cell_type": "code",
   "execution_count": 11,
   "metadata": {},
   "outputs": [],
   "source": [
    "cm_display = metrics.ConfusionMatrixDisplay(confusion_matrix = confusion_matrix, display_labels = [0, 1, 2, 3, 4])"
   ]
  },
  {
   "cell_type": "code",
   "execution_count": 12,
   "metadata": {},
   "outputs": [
    {
     "data": {
      "text/plain": [
       "<sklearn.metrics._plot.confusion_matrix.ConfusionMatrixDisplay at 0x7fac292599d0>"
      ]
     },
     "execution_count": 12,
     "metadata": {},
     "output_type": "execute_result"
    },
    {
     "data": {
      "image/png": "[encoded data removed]",
      "text/plain": [
       "<Figure size 432x288 with 2 Axes>"
      ]
     },
     "metadata": {
      "needs_background": "light"
     },
     "output_type": "display_data"
    }
   ],
   "source": [
    "cm_display.plot()"
   ]
  },
  {
   "cell_type": "code",
   "execution_count": 122,
   "metadata": {},
   "outputs": [
    {
     "data": {
      "text/plain": [
       "1102"
      ]
     },
     "execution_count": 122,
     "metadata": {},
     "output_type": "execute_result"
    }
   ],
   "source": [
    "len(data_result_dict.keys())"
   ]
  },
  {
   "cell_type": "code",
   "execution_count": null,
   "metadata": {},
   "outputs": [],
   "source": []
  },
  {
   "cell_type": "code",
   "execution_count": 82,
   "metadata": {},
   "outputs": [
    {
     "data": {
      "text/plain": [
       "{'instruction': [\"uh so before adding the oil we're going to whisk these ingredients together and then add the liquid indgredients\",\n",
       "  'Answer'],\n",
       " 'label': 'Confirmation',\n",
       " 'description': 'The scene and action description is: A person is sequentially adding ingredients into a bowl and whisking, likely preparing batter or dough for cooking or baking. The spoken content is: whisk them together great',\n",
       " 'prediction': {'overall': 'confirmation',\n",
       "  'visual': 'answer',\n",
       "  'language': 'confirmation',\n",
       "  'explanation': \"Based on the visual information of the person sequentially adding ingredients into a bowl and whisking, along with the spoken content 'whisk them together great,' it is evident that the user is actively following the task steps to prepare batter or dough. The user's action of whisking the ingredients aligns with the previous instruction to whisk the ingredients together before adding the liquid ingredients. Therefore, the user's intention is to confirm that they are whisking the ingredients together correctly.\"},\n",
       " 'interaction_type': 'U1'}"
      ]
     },
     "execution_count": 82,
     "metadata": {},
     "output_type": "execute_result"
    }
   ],
   "source": [
    "data_result_dict['T49_42']"
   ]
  },
  {
   "cell_type": "code",
   "execution_count": 123,
   "metadata": {},
   "outputs": [],
   "source": [
    "relationship_dict = {\n",
    "    'R': [],\n",
    "    'Complement-S': [],\n",
    "    'U1': [],\n",
    "    'U2': [],\n",
    "    'Conflict-S': []\n",
    "}"
   ]
  },
  {
   "cell_type": "code",
   "execution_count": 124,
   "metadata": {},
   "outputs": [],
   "source": [
    "for key in false_list:\n",
    "    relationship_dict[data_result_dict[key]['interaction_type']].append(key)"
   ]
  },
  {
   "cell_type": "code",
   "execution_count": 139,
   "metadata": {},
   "outputs": [],
   "source": [
    "result_dict = {}\n",
    "for key in relationship_dict['Conflict-S']:\n",
    "    result_dict[key] = data_result_dict[key] "
   ]
  },
  {
   "cell_type": "code",
   "execution_count": 140,
   "metadata": {},
   "outputs": [
    {
     "data": {
      "text/plain": [
       "2"
      ]
     },
     "execution_count": 140,
     "metadata": {},
     "output_type": "execute_result"
    }
   ],
   "source": [
    "len(result_dict)"
   ]
  },
  {
   "cell_type": "code",
   "execution_count": 141,
   "metadata": {},
   "outputs": [],
   "source": [
    "with open('result_dict_Conflict-S.json', 'w') as f:\n",
    "    json.dump(result_dict, f)"
   ]
  },
  {
   "cell_type": "code",
   "execution_count": 142,
   "metadata": {},
   "outputs": [],
   "source": [
    "with open('wtag_data_result_dict.json', 'w') as f:\n",
    "    json.dump(data_result_dict, f)"
   ]
  },
  {
   "cell_type": "code",
   "execution_count": null,
   "metadata": {},
   "outputs": [],
   "source": []
  }
 ],
 "metadata": {
  "kernelspec": {
   "display_name": "Python 3",
   "language": "python",
   "name": "python3"
  },
  "language_info": {
   "codemirror_mode": {
    "name": "ipython",
    "version": 3
   },
   "file_extension": ".py",
   "mimetype": "text/x-python",
   "name": "python",
   "nbconvert_exporter": "python",
   "pygments_lexer": "ipython3",
   "version": "3.8.5"
  }
 },
 "nbformat": 4,
 "nbformat_minor": 4
}
